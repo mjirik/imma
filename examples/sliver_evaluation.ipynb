{
 "cells": [
  {
   "cell_type": "code",
   "execution_count": 1,
   "metadata": {},
   "outputs": [
    {
     "name": "stdout",
     "output_type": "stream",
     "text": [
      "PyQt5 detected\n"
     ]
    }
   ],
   "source": [
    "import imma\n",
    "import imma.volumetry_evaluation\n",
    "import io3d\n",
    "import io3d.datasets\n",
    "import numpy as np\n",
    "import matplotlib.pyplot as plt\n",
    "import skimage.morphology"
   ]
  },
  {
   "cell_type": "markdown",
   "metadata": {},
   "source": [
    "# Ground true segmentation"
   ]
  },
  {
   "cell_type": "code",
   "execution_count": 2,
   "metadata": {},
   "outputs": [
    {
     "data": {
      "text/plain": [
       "dict_keys(['3Dircadb1', 'sliver07', 'pilsen_pigs'])"
      ]
     },
     "execution_count": 2,
     "metadata": {},
     "output_type": "execute_result"
    }
   ],
   "source": [
    "io3d.datasets.DATASET_PATH_STRUCTURE.keys()"
   ]
  },
  {
   "cell_type": "code",
   "execution_count": 25,
   "metadata": {},
   "outputs": [
    {
     "data": {
      "text/plain": [
       "<matplotlib.image.AxesImage at 0x1da001b2668>"
      ]
     },
     "execution_count": 25,
     "metadata": {},
     "output_type": "execute_result"
    },
    {
     "data": {
      "image/png": "[encoded data removed]",
      "text/plain": [
       "<Figure size 432x288 with 2 Axes>"
      ]
     },
     "metadata": {
      "needs_background": "light"
     },
     "output_type": "display_data"
    }
   ],
   "source": [
    "# dp_data3d = io3d.read_dataset(\"3Dircadb1\",'data3d', 1)\n",
    "dp_liver = io3d.read_dataset(\"3Dircadb1\",'liver', 1)\n",
    "fig, axs = plt.subplots(1, 2)\n",
    "axs[0].imshow(dp_liver.data3d[50,:,:])\n",
    "axs[1].imshow(dp_liver.data3d[:,200,:], aspect=dp_liver.voxelsize_mm[0]/dp_liver.voxelsize_mm[1])"
   ]
  },
  {
   "cell_type": "markdown",
   "metadata": {},
   "source": [
    "# Fake segmentation"
   ]
  },
  {
   "cell_type": "code",
   "execution_count": 29,
   "metadata": {},
   "outputs": [
    {
     "data": {
      "text/plain": [
       "<matplotlib.image.AxesImage at 0x1da0038dcc0>"
      ]
     },
     "execution_count": 29,
     "metadata": {},
     "output_type": "execute_result"
    },
    {
     "data": {
      "image/png": "[encoded data removed]",
      "text/plain": [
       "<Figure size 432x288 with 2 Axes>"
      ]
     },
     "metadata": {
      "needs_background": "light"
     },
     "output_type": "display_data"
    }
   ],
   "source": [
    "# fake_segmentation = np.zeros_like(dp_liver.data3d)\n",
    "\n",
    "center = [40, 300, 200]\n",
    "r = 30\n",
    "\n",
    "sh = dp_liver.data3d.shape\n",
    "def make_sphere(r, center, shape):\n",
    "    sh = shape\n",
    "    xx,yy,zz = np.meshgrid(list(range(sh[0])), list(range(sh[1])), list(range(sh[2])), indexing='ij')\n",
    "    fake_segmentation = (xx-center[0])**2 + (yy-center[1])**2 + (zz-center[2])**2 - r**2\n",
    "    return fake_segmentation < 0\n",
    "#     return np.sqrt(np.abs(fake_segmentation)) * np.sign(fake_segmentation)\n",
    "\n",
    "sph = make_sphere(90, [40, 250, 200], sh)\n",
    "sph += make_sphere(60, [30, 200, 300], sh)\n",
    "\n",
    "fake_segmentation = sph\n",
    "\n",
    " # fake_segmentation = skimage.morphology.ball(30)\n",
    "# plt.imshow(fake_segmentation[40,:,:])\n",
    "fig, axs = plt.subplots(1, 2)\n",
    "axs[0].imshow(fake_segmentation[50,:,:])\n",
    "axs[1].imshow(fake_segmentation[:,200,:], aspect=dp_liver.voxelsize_mm[0]/dp_liver.voxelsize_mm[1])\n"
   ]
  },
  {
   "cell_type": "markdown",
   "metadata": {},
   "source": [
    "# Evaluation\n",
    "\n",
    "Described in paper\n",
    "\n",
    "Heimann, T., van Ginneken, B., Styner, M. a, Arzhaeva, Y., Aurich, V., Bauer, C., … Wolf, I. (2009). Comparison and evaluation of methods for liver segmentation from CT datasets. IEEE Transactions on Medical Imaging, 28(8), 1251–1265. https://doi.org/10.1109/TMI.2009.2013851\n",
    "\n",
    "## General metrics independent on volume type"
   ]
  },
  {
   "cell_type": "code",
   "execution_count": 33,
   "metadata": {},
   "outputs": [
    {
     "data": {
      "text/plain": [
       "{'volume1_mm3': 1489409.6838546782,\n",
       " 'volume2_mm3': 1619329.1350100804,\n",
       " 'err1_mm3': 760856.530482664,\n",
       " 'err2_mm3': 890775.9816380662,\n",
       " 'err1_percent': 48.94953064989304,\n",
       " 'err2_percent': 57.30786878798377,\n",
       " 'vd': 8.722882129996849,\n",
       " 'voe': 69.39091080438091,\n",
       " 'avgd': 20.761735595187776,\n",
       " 'rmsd': 624.7126257039051,\n",
       " 'maxd': 72.15508355688652,\n",
       " 'dice': 0.5312869971893841,\n",
       " 'jaccard': 0.30609089195619094}"
      ]
     },
     "execution_count": 33,
     "metadata": {},
     "output_type": "execute_result"
    }
   ],
   "source": [
    "evaluation = imma.volumetry_evaluation.compare_volumes(dp_liver.data3d, fake_segmentation, voxelsize_mm=dp_liver.voxelsize_mm)\n",
    "evaluation"
   ]
  },
  {
   "cell_type": "markdown",
   "metadata": {},
   "source": [
    "## Metrics recalculated to the points accoarding to human performance on liver segmentation\n",
    "\n",
    "For more detail see the paper."
   ]
  },
  {
   "cell_type": "code",
   "execution_count": 46,
   "metadata": {},
   "outputs": [
    {
     "data": {
      "text/plain": [
       "{'volume1_mm3': 1489409.6838546782,\n",
       " 'volume2_mm3': 1619329.1350100804,\n",
       " 'err1_mm3': 760856.530482664,\n",
       " 'err2_mm3': 890775.9816380662,\n",
       " 'err1_percent': 48.94953064989304,\n",
       " 'err2_percent': 57.30786878798377,\n",
       " 'vd': 8.722882129996849,\n",
       " 'voe': 69.39091080438091,\n",
       " 'avgd': 20.761735595187776,\n",
       " 'rmsd': 624.7126257039051,\n",
       " 'maxd': 72.15508355688652,\n",
       " 'dice': 0.5312869971893841,\n",
       " 'jaccard': 0.30609089195619094}"
      ]
     },
     "execution_count": 46,
     "metadata": {},
     "output_type": "execute_result"
    }
   ],
   "source": [
    "evaluation, diff = imma.volumetry_evaluation.compare_volumes(dp_liver.data3d, fake_segmentation, voxelsize_mm=dp_liver.voxelsize_mm, return_diff=True)\n",
    "evaluation"
   ]
  },
  {
   "cell_type": "markdown",
   "metadata": {},
   "source": [
    "## See the difference\n",
    "\n",
    "* red - undersegmentation\n",
    "* blue - over segmentation"
   ]
  },
  {
   "cell_type": "code",
   "execution_count": 45,
   "metadata": {},
   "outputs": [
    {
     "data": {
      "text/plain": [
       "<matplotlib.image.AxesImage at 0x1da01cdfba8>"
      ]
     },
     "execution_count": 45,
     "metadata": {},
     "output_type": "execute_result"
    },
    {
     "data": {
      "image/png": "[encoded data removed]",
      "text/plain": [
       "<Figure size 432x288 with 2 Axes>"
      ]
     },
     "metadata": {
      "needs_background": "light"
     },
     "output_type": "display_data"
    }
   ],
   "source": [
    "fig, axs = plt.subplots(1, 2)\n",
    "axs[0].imshow(diff[50,:,:], cmap=\"bwr\")\n",
    "axs[1].imshow(diff[:,200,:], aspect=dp_liver.voxelsize_mm[0]/dp_liver.voxelsize_mm[1], cmap='bwr')"
   ]
  },
  {
   "cell_type": "code",
   "execution_count": 38,
   "metadata": {},
   "outputs": [
    {
     "data": {
      "text/plain": [
       "array([-1,  0,  1], dtype=int8)"
      ]
     },
     "execution_count": 38,
     "metadata": {},
     "output_type": "execute_result"
    }
   ],
   "source": [
    "np.unique(diff)"
   ]
  },
  {
   "cell_type": "code",
   "execution_count": null,
   "metadata": {},
   "outputs": [],
   "source": []
  }
 ],
 "metadata": {
  "@webio": {
   "lastCommId": null,
   "lastKernelId": null
  },
  "kernelspec": {
   "display_name": "Python 3",
   "language": "python",
   "name": "python3"
  },
  "language_info": {
   "codemirror_mode": {
    "name": "ipython",
    "version": 3
   },
   "file_extension": ".py",
   "mimetype": "text/x-python",
   "name": "python",
   "nbconvert_exporter": "python",
   "pygments_lexer": "ipython3",
   "version": "3.6.7"
  }
 },
 "nbformat": 4,
 "nbformat_minor": 2
}
